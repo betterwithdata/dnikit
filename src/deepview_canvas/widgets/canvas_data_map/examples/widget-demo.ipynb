{
 "cells": [
  {
   "cell_type": "markdown",
   "id": "460ba9d2",
   "metadata": {},
   "source": [
    "# Data Map Demo \n",
    "\n",
    "Run this noteboook to test your widget, and create the initial directory to be able to run `yarn dev`."
   ]
  },
  {
   "cell_type": "code",
   "execution_count": 1,
   "id": "606b2aad",
   "metadata": {
    "tags": []
   },
   "outputs": [],
   "source": [
    "%load_ext autoreload\n",
    "%autoreload 2"
   ]
  },
  {
   "cell_type": "code",
   "execution_count": 2,
   "id": "b97ea5a0",
   "metadata": {
    "tags": []
   },
   "outputs": [],
   "source": [
    "import random\n",
    "import pandas as pd\n",
    "\n",
    "import canvas_ux\n",
    "from canvas_data_map import CanvasDataMap"
   ]
  },
  {
   "cell_type": "markdown",
   "id": "9101d772",
   "metadata": {},
   "source": [
    "### Create/Import Data \n",
    "\n",
    "Create a Pandas DataFrame with your data or the metadata for a dataset."
   ]
  },
  {
   "cell_type": "code",
   "execution_count": 3,
   "id": "3d776a7e",
   "metadata": {
    "tags": []
   },
   "outputs": [],
   "source": [
    "a = [random.randint(0, 100) for i in range(100)]\n",
    "b = [random.randint(50, 200) for i in range(100)]\n",
    "c = [random.randint(0, 1) for i in range(100)]\n",
    "states = ['Alabama',\n",
    "'Alaska',\n",
    "'Arizona',\n",
    "'Arkansas',\n",
    "'California',\n",
    "'Colorado',\n",
    "'Connecticut',\n",
    "'Delaware',\n",
    "'District of Columbia',\n",
    "'Florida',\n",
    "'Georgia',\n",
    "'Hawaii',\n",
    "'Idaho',\n",
    "'Illinois',\n",
    "'Indiana',\n",
    "'Iowa',\n",
    "'Kansas',\n",
    "'Kentucky',\n",
    "'Louisiana',\n",
    "'Maine',\n",
    "'Maryland',\n",
    "'Massachusetts',\n",
    "'Michigan',\n",
    "'Minnesota',\n",
    "'Mississippi',\n",
    "'Missouri',\n",
    "'Montana',\n",
    "'Nebraska',\n",
    "'Nevada',\n",
    "'New Hampshire',\n",
    "'New Jersey',\n",
    "'New Mexico',\n",
    "'New York',\n",
    "'North Carolina',\n",
    "'North Dakota',\n",
    "'Ohio',\n",
    "'Oklahoma',\n",
    "'Oregon',\n",
    "'Pennsylvania',\n",
    "'Rhode Island',\n",
    "'South Carolina',\n",
    "'South Dakota',\n",
    "'Tennessee',\n",
    "'Texas',\n",
    "'Utah',\n",
    "'Vermont',\n",
    "'Virginia',\n",
    "'Washington',\n",
    "'West Virginia',\n",
    "'Wisconsin',\n",
    "'Wyoming']\n",
    "country = [random.choice(states) for i in range(100)]\n",
    "\n",
    "df = pd.DataFrame(zip(a, b, c, country), columns=['a', 'b', 'c', 'country'])"
   ]
  },
  {
   "cell_type": "code",
   "execution_count": 4,
   "id": "9971d592",
   "metadata": {
    "tags": []
   },
   "outputs": [
    {
     "data": {
      "text/html": [
       "<div>\n",
       "<style scoped>\n",
       "    .dataframe tbody tr th:only-of-type {\n",
       "        vertical-align: middle;\n",
       "    }\n",
       "\n",
       "    .dataframe tbody tr th {\n",
       "        vertical-align: top;\n",
       "    }\n",
       "\n",
       "    .dataframe thead th {\n",
       "        text-align: right;\n",
       "    }\n",
       "</style>\n",
       "<table border=\"1\" class=\"dataframe\">\n",
       "  <thead>\n",
       "    <tr style=\"text-align: right;\">\n",
       "      <th></th>\n",
       "      <th>a</th>\n",
       "      <th>b</th>\n",
       "      <th>c</th>\n",
       "      <th>country</th>\n",
       "    </tr>\n",
       "  </thead>\n",
       "  <tbody>\n",
       "    <tr>\n",
       "      <th>0</th>\n",
       "      <td>21</td>\n",
       "      <td>60</td>\n",
       "      <td>1</td>\n",
       "      <td>Pennsylvania</td>\n",
       "    </tr>\n",
       "    <tr>\n",
       "      <th>1</th>\n",
       "      <td>73</td>\n",
       "      <td>95</td>\n",
       "      <td>1</td>\n",
       "      <td>Delaware</td>\n",
       "    </tr>\n",
       "    <tr>\n",
       "      <th>2</th>\n",
       "      <td>1</td>\n",
       "      <td>116</td>\n",
       "      <td>1</td>\n",
       "      <td>Utah</td>\n",
       "    </tr>\n",
       "    <tr>\n",
       "      <th>3</th>\n",
       "      <td>25</td>\n",
       "      <td>165</td>\n",
       "      <td>0</td>\n",
       "      <td>Georgia</td>\n",
       "    </tr>\n",
       "    <tr>\n",
       "      <th>4</th>\n",
       "      <td>28</td>\n",
       "      <td>106</td>\n",
       "      <td>0</td>\n",
       "      <td>Colorado</td>\n",
       "    </tr>\n",
       "  </tbody>\n",
       "</table>\n",
       "</div>"
      ],
      "text/plain": [
       "    a    b  c       country\n",
       "0  21   60  1  Pennsylvania\n",
       "1  73   95  1      Delaware\n",
       "2   1  116  1          Utah\n",
       "3  25  165  0       Georgia\n",
       "4  28  106  0      Colorado"
      ]
     },
     "execution_count": 4,
     "metadata": {},
     "output_type": "execute_result"
    }
   ],
   "source": [
    "df.head()"
   ]
  },
  {
   "cell_type": "code",
   "execution_count": 5,
   "id": "bbb9875e",
   "metadata": {
    "tags": []
   },
   "outputs": [],
   "source": [
    "id_map = {\n",
    "    'Alabama': 1,\n",
    "    'Alaska': 2,\n",
    "    'Arizona': 4,\n",
    "    'Arkansas': 5,\n",
    "    'California': 6,\n",
    "    'Colorado': 8,\n",
    "    'Connecticut': 9,\n",
    "    'Delaware': 10,\n",
    "    'District of Columbia': 11,\n",
    "    'Florida': 12,\n",
    "    'Georgia': 13,\n",
    "    'Hawaii': 15,\n",
    "    'Idaho': 16,\n",
    "    'Illinois': 17,\n",
    "    'Indiana': 18,\n",
    "    'Iowa': 19,\n",
    "    'Kansas': 20,\n",
    "    'Kentucky': 21,\n",
    "    'Louisiana': 22,\n",
    "    'Maine': 23,\n",
    "    'Maryland': 24,\n",
    "    'Massachusetts': 25,\n",
    "    'Michigan': 26,\n",
    "    'Minnesota': 27,\n",
    "    'Mississippi': 28,\n",
    "    'Missouri': 29,\n",
    "    'Montana': 30,\n",
    "    'Nebraska': 31,\n",
    "    'Nevada': 32,\n",
    "    'New Hampshire': 33,\n",
    "    'New Jersey': 34,\n",
    "    'New Mexico': 35,\n",
    "    'New York': 36,\n",
    "    'North Carolina': 37,\n",
    "    'North Dakota': 38,\n",
    "    'Ohio': 39,\n",
    "    'Oklahoma': 40,\n",
    "    'Oregon': 41,\n",
    "    'Pennsylvania': 42,\n",
    "    'Rhode Island': 44,\n",
    "    'South Carolina': 45,\n",
    "    'South Dakota': 46,\n",
    "    'Tennessee': 47,\n",
    "    'Texas': 48,\n",
    "    'Utah': 49,\n",
    "    'Vermont': 50,\n",
    "    'Virginia': 51,\n",
    "    'Washington': 53,\n",
    "    'West Virginia': 54,\n",
    "    'Wisconsin': 55,\n",
    "    'Wyoming': 56,\n",
    "}"
   ]
  },
  {
   "cell_type": "markdown",
   "id": "8c8e9dd5",
   "metadata": {},
   "source": [
    "### Create Canvas Widgets\n",
    "\n",
    "We can now explore the individual widgets!"
   ]
  },
  {
   "cell_type": "code",
   "execution_count": 6,
   "id": "e220611f",
   "metadata": {
    "tags": []
   },
   "outputs": [
    {
     "name": "stdout",
     "output_type": "stream",
     "text": [
      "Input files path is None\n",
      "Canvas spect dict value is {'filesPath': 'None', 'dataType': 1, 'instancesPerPage': 150, 'showUnfilteredData': True, 'idColumn': 'id'}\n"
     ]
    }
   ],
   "source": [
    "symph = canvas_ux.Canvas(df, notebook=True)"
   ]
  },
  {
   "cell_type": "code",
   "execution_count": 7,
   "id": "613053b3",
   "metadata": {
    "tags": []
   },
   "outputs": [
    {
     "name": "stdout",
     "output_type": "stream",
     "text": [
      "Canvas spect dict value is {'width': 'XXL', 'height': 'M', 'page': 'Data Map', 'name': 'CanvasDataMap', 'description': 'A Canvas component for visualizing data on a map', 'projection': 'albersUsa', 'idMap': {'Alabama': 1, 'Alaska': 2, 'Arizona': 4, 'Arkansas': 5, 'California': 6, 'Colorado': 8, 'Connecticut': 9, 'Delaware': 10, 'District of Columbia': 11, 'Florida': 12, 'Georgia': 13, 'Hawaii': 15, 'Idaho': 16, 'Illinois': 17, 'Indiana': 18, 'Iowa': 19, 'Kansas': 20, 'Kentucky': 21, 'Louisiana': 22, 'Maine': 23, 'Maryland': 24, 'Massachusetts': 25, 'Michigan': 26, 'Minnesota': 27, 'Mississippi': 28, 'Missouri': 29, 'Montana': 30, 'Nebraska': 31, 'Nevada': 32, 'New Hampshire': 33, 'New Jersey': 34, 'New Mexico': 35, 'New York': 36, 'North Carolina': 37, 'North Dakota': 38, 'Ohio': 39, 'Oklahoma': 40, 'Oregon': 41, 'Pennsylvania': 42, 'Rhode Island': 44, 'South Carolina': 45, 'South Dakota': 46, 'Tennessee': 47, 'Texas': 48, 'Utah': 49, 'Vermont': 50, 'Virginia': 51, 'Washington': 53, 'West Virginia': 54, 'Wisconsin': 55, 'Wyoming': 56}, 'feature': 'states', 'idColumn': 'country', 'mapUrl': 'https://raw.githubusercontent.com/vega/vega/master/docs/data/us-10m.json'}\n"
     ]
    },
    {
     "data": {
      "application/vnd.jupyter.widget-view+json": {
       "model_id": "e5b51b74f6384744bec77eb8c78915a0",
       "version_major": 2,
       "version_minor": 0
      },
      "text/plain": [
       "HBox(children=(CanvasDataMap(layout=Layout(overflow='unset', width='100%'), widget_spec={'width': 'XXL', 'heig…"
      ]
     },
     "execution_count": 7,
     "metadata": {},
     "output_type": "execute_result"
    }
   ],
   "source": [
    "symph.widget(CanvasDataMap, id_column='country', feature='states', projection='albersUsa', id_map=id_map, map_url='https://raw.githubusercontent.com/vega/vega/master/docs/data/us-10m.json')"
   ]
  },
  {
   "cell_type": "code",
   "execution_count": null,
   "id": "52673af3",
   "metadata": {},
   "outputs": [],
   "source": [
    "symph.export('../canvas_data_map/standalone', name=\"Widget Demo\")"
   ]
  },
  {
   "cell_type": "code",
   "execution_count": null,
   "id": "038b3b75",
   "metadata": {},
   "outputs": [],
   "source": []
  }
 ],
 "metadata": {
  "finalized": {
   "timestamp": 1623266852462,
   "trusted": false
  },
  "kernelspec": {
   "display_name": "betterwithdata",
   "language": "python",
   "name": "betterwithdata"
  },
  "language_info": {
   "codemirror_mode": {
    "name": "ipython",
    "version": 3
   },
   "file_extension": ".py",
   "mimetype": "text/x-python",
   "name": "python",
   "nbconvert_exporter": "python",
   "pygments_lexer": "ipython3",
   "version": "3.10.15"
  },
  "metadata": {
   "interpreter": {
    "hash": "61676ae764c2630d6a4b513ad0617d91546daad86abd1efe70032d363af5955a"
   }
  }
 },
 "nbformat": 4,
 "nbformat_minor": 5
}
