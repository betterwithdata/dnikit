{
 "cells": [
  {
   "attachments": {},
   "cell_type": "markdown",
   "metadata": {},
   "source": [
    "# {{cookiecutter.widget_name}} Demo \n",
    "\n",
    "Run this noteboook to test your widget, and create the initial directory to be able to run `yarn dev`."
   ]
  },
  {
   "cell_type": "code",
   "execution_count": null,
   "metadata": {},
   "outputs": [],
   "source": [
    "%load_ext autoreload\n",
    "%autoreload 2"
   ]
  },
  {
   "cell_type": "code",
   "execution_count": null,
   "metadata": {},
   "outputs": [],
   "source": [
    "import random\n",
    "import pandas as pd\n",
    "\n",
    "import canvas_ux\n",
    "from {{cookiecutter.python_package_name}} import {{cookiecutter.widget_identifier}}"
   ]
  },
  {
   "attachments": {},
   "cell_type": "markdown",
   "metadata": {},
   "source": [
    "### Create/Import Data \n",
    "\n",
    "Create a Pandas DataFrame with your data or the metadata for a dataset."
   ]
  },
  {
   "cell_type": "code",
   "execution_count": null,
   "metadata": {},
   "outputs": [],
   "source": [
    "a = [random.randint(0, 100) for i in range(100)]\n",
    "b = [random.randint(50, 200) for i in range(100)]\n",
    "c = [random.randint(0, 1) for i in range(100)]\n",
    "\n",
    "df = pd.DataFrame(zip(a, b, c), columns=['a', 'b', 'c'])"
   ]
  },
  {
   "cell_type": "code",
   "execution_count": null,
   "metadata": {},
   "outputs": [],
   "source": [
    "df.head()"
   ]
  },
  {
   "attachments": {},
   "cell_type": "markdown",
   "metadata": {},
   "source": [
    "### Create Canvas Widgets\n",
    "\n",
    "We can now explore the individual widgets!"
   ]
  },
  {
   "cell_type": "code",
   "execution_count": null,
   "metadata": {},
   "outputs": [],
   "source": [
    "symph = canvas_ux.Canvas(df, notebook=True)"
   ]
  },
  {
   "cell_type": "code",
   "execution_count": null,
   "metadata": {},
   "outputs": [],
   "source": [
    "symph.widget({{cookiecutter.widget_identifier}})"
   ]
  },
  {
   "cell_type": "code",
   "execution_count": null,
   "metadata": {},
   "outputs": [],
   "source": [
    "symph.export('../{{cookiecutter.python_package_name}}/standalone', name=\"Widget Demo\")"
   ]
  }
 ],
 "metadata": {
  "finalized": {
   "timestamp": 1623266852462,
   "trusted": false
  },
  "kernelspec": {
   "display_name": "Python 3.9.5 64-bit",
   "name": "python395jvsc74a57bd061676ae764c2630d6a4b513ad0617d91546daad86abd1efe70032d363af5955a"
  },
  "language_info": {
   "name": "python",
   "version": ""
  },
  "metadata": {
   "interpreter": {
    "hash": "61676ae764c2630d6a4b513ad0617d91546daad86abd1efe70032d363af5955a"
   }
  }
 },
 "nbformat": 4,
 "nbformat_minor": 5
}
