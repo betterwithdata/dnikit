{
 "cells": [
  {
   "cell_type": "markdown",
   "id": "d2582a8f",
   "metadata": {},
   "source": [
    "# Scatterplot Demo \n",
    "\n",
    "Run this noteboook to test your widget, and create the initial directory to be able to run `yarn dev`."
   ]
  },
  {
   "cell_type": "code",
   "execution_count": 1,
   "id": "93bc5411",
   "metadata": {
    "tags": []
   },
   "outputs": [],
   "source": [
    "%load_ext autoreload\n",
    "%autoreload 2"
   ]
  },
  {
   "cell_type": "code",
   "execution_count": 2,
   "id": "ae7f12b8",
   "metadata": {
    "tags": []
   },
   "outputs": [],
   "source": [
    "import random\n",
    "import pandas as pd\n",
    "\n",
    "import canvas_ux\n",
    "from canvas_scatterplot import CanvasScatterplot"
   ]
  },
  {
   "cell_type": "markdown",
   "id": "89c84ed5",
   "metadata": {},
   "source": [
    "### Create/Import Data \n",
    "\n",
    "Create a Pandas DataFrame with your data or the metadata for a dataset."
   ]
  },
  {
   "cell_type": "code",
   "execution_count": 3,
   "id": "17f31899",
   "metadata": {
    "tags": []
   },
   "outputs": [],
   "source": [
    "ids = ['a' + str(i) for i in range(100)]\n",
    "x = [random.random() for i in range(100)]\n",
    "y = [random.random() for i in range(100)]\n",
    "category = [random.choice(['category_1','category_2','category_3']) for i in range(100)]\n",
    "\n",
    "df = pd.DataFrame(zip(x, y, category, ids), columns=['projection_coordinate_x', 'projection_coordinate_y', 'category', 'id'])"
   ]
  },
  {
   "cell_type": "code",
   "execution_count": 4,
   "id": "682d1d8b",
   "metadata": {
    "tags": []
   },
   "outputs": [
    {
     "data": {
      "text/html": [
       "<div>\n",
       "<style scoped>\n",
       "    .dataframe tbody tr th:only-of-type {\n",
       "        vertical-align: middle;\n",
       "    }\n",
       "\n",
       "    .dataframe tbody tr th {\n",
       "        vertical-align: top;\n",
       "    }\n",
       "\n",
       "    .dataframe thead th {\n",
       "        text-align: right;\n",
       "    }\n",
       "</style>\n",
       "<table border=\"1\" class=\"dataframe\">\n",
       "  <thead>\n",
       "    <tr style=\"text-align: right;\">\n",
       "      <th></th>\n",
       "      <th>projection_coordinate_x</th>\n",
       "      <th>projection_coordinate_y</th>\n",
       "      <th>category</th>\n",
       "      <th>id</th>\n",
       "    </tr>\n",
       "  </thead>\n",
       "  <tbody>\n",
       "    <tr>\n",
       "      <th>0</th>\n",
       "      <td>0.277021</td>\n",
       "      <td>0.609998</td>\n",
       "      <td>category_2</td>\n",
       "      <td>a0</td>\n",
       "    </tr>\n",
       "    <tr>\n",
       "      <th>1</th>\n",
       "      <td>0.608356</td>\n",
       "      <td>0.433773</td>\n",
       "      <td>category_1</td>\n",
       "      <td>a1</td>\n",
       "    </tr>\n",
       "    <tr>\n",
       "      <th>2</th>\n",
       "      <td>0.364138</td>\n",
       "      <td>0.858280</td>\n",
       "      <td>category_1</td>\n",
       "      <td>a2</td>\n",
       "    </tr>\n",
       "    <tr>\n",
       "      <th>3</th>\n",
       "      <td>0.561650</td>\n",
       "      <td>0.046917</td>\n",
       "      <td>category_1</td>\n",
       "      <td>a3</td>\n",
       "    </tr>\n",
       "    <tr>\n",
       "      <th>4</th>\n",
       "      <td>0.799369</td>\n",
       "      <td>0.156313</td>\n",
       "      <td>category_1</td>\n",
       "      <td>a4</td>\n",
       "    </tr>\n",
       "    <tr>\n",
       "      <th>...</th>\n",
       "      <td>...</td>\n",
       "      <td>...</td>\n",
       "      <td>...</td>\n",
       "      <td>...</td>\n",
       "    </tr>\n",
       "    <tr>\n",
       "      <th>95</th>\n",
       "      <td>0.070212</td>\n",
       "      <td>0.636839</td>\n",
       "      <td>category_3</td>\n",
       "      <td>a95</td>\n",
       "    </tr>\n",
       "    <tr>\n",
       "      <th>96</th>\n",
       "      <td>0.865885</td>\n",
       "      <td>0.346302</td>\n",
       "      <td>category_2</td>\n",
       "      <td>a96</td>\n",
       "    </tr>\n",
       "    <tr>\n",
       "      <th>97</th>\n",
       "      <td>0.419401</td>\n",
       "      <td>0.961455</td>\n",
       "      <td>category_2</td>\n",
       "      <td>a97</td>\n",
       "    </tr>\n",
       "    <tr>\n",
       "      <th>98</th>\n",
       "      <td>0.184634</td>\n",
       "      <td>0.129392</td>\n",
       "      <td>category_1</td>\n",
       "      <td>a98</td>\n",
       "    </tr>\n",
       "    <tr>\n",
       "      <th>99</th>\n",
       "      <td>0.117790</td>\n",
       "      <td>0.492276</td>\n",
       "      <td>category_1</td>\n",
       "      <td>a99</td>\n",
       "    </tr>\n",
       "  </tbody>\n",
       "</table>\n",
       "<p>100 rows × 4 columns</p>\n",
       "</div>"
      ],
      "text/plain": [
       "    projection_coordinate_x  projection_coordinate_y    category   id\n",
       "0                  0.277021                 0.609998  category_2   a0\n",
       "1                  0.608356                 0.433773  category_1   a1\n",
       "2                  0.364138                 0.858280  category_1   a2\n",
       "3                  0.561650                 0.046917  category_1   a3\n",
       "4                  0.799369                 0.156313  category_1   a4\n",
       "..                      ...                      ...         ...  ...\n",
       "95                 0.070212                 0.636839  category_3  a95\n",
       "96                 0.865885                 0.346302  category_2  a96\n",
       "97                 0.419401                 0.961455  category_2  a97\n",
       "98                 0.184634                 0.129392  category_1  a98\n",
       "99                 0.117790                 0.492276  category_1  a99\n",
       "\n",
       "[100 rows x 4 columns]"
      ]
     },
     "execution_count": 4,
     "metadata": {},
     "output_type": "execute_result"
    }
   ],
   "source": [
    "df"
   ]
  },
  {
   "cell_type": "markdown",
   "id": "9f46f0c7",
   "metadata": {},
   "source": [
    "### Create Canvas Widgets\n",
    "\n",
    "We can now explore the individual widgets!"
   ]
  },
  {
   "cell_type": "code",
   "execution_count": 5,
   "id": "75014332",
   "metadata": {
    "tags": []
   },
   "outputs": [
    {
     "name": "stdout",
     "output_type": "stream",
     "text": [
      "Canvas spec dict value is {'filesPath': 'None', 'dataType': 1, 'instancesPerPage': 150, 'showUnfilteredData': True, 'idColumn': 'id'}\n"
     ]
    }
   ],
   "source": [
    "symph = canvas_ux.Canvas(df)"
   ]
  },
  {
   "cell_type": "code",
   "execution_count": 6,
   "id": "e563b169",
   "metadata": {
    "tags": []
   },
   "outputs": [
    {
     "name": "stdout",
     "output_type": "stream",
     "text": [
      "Canvas spec dict value is {'width': 'XXL', 'height': 'M', 'page': 'Scatterplot', 'name': 'CanvasScatterplot', 'description': 'A scatterplot Canvas component based on regl-scatterplot'}\n"
     ]
    },
    {
     "data": {
      "application/vnd.jupyter.widget-view+json": {
       "model_id": "913f4a162ac34455b872987fb35fb000",
       "version_major": 2,
       "version_minor": 0
      },
      "text/plain": [
       "HBox(children=(CanvasScatterplot(layout=Layout(overflow='unset', width='100%'), widget_spec={'width': 'XXL', '…"
      ]
     },
     "execution_count": 6,
     "metadata": {},
     "output_type": "execute_result"
    }
   ],
   "source": [
    "symph.widget(CanvasScatterplot)"
   ]
  },
  {
   "cell_type": "markdown",
   "id": "e9e6d295",
   "metadata": {},
   "source": [
    "Use `canvas_ux.set_selected()` to select a particular point in the widget through code."
   ]
  },
  {
   "cell_type": "code",
   "execution_count": 8,
   "id": "48a80edd",
   "metadata": {
    "tags": []
   },
   "outputs": [],
   "source": [
    "symph.set_selected(['a0'])"
   ]
  },
  {
   "cell_type": "code",
   "execution_count": 9,
   "id": "fee8ee9e",
   "metadata": {
    "tags": []
   },
   "outputs": [
    {
     "name": "stdout",
     "output_type": "stream",
     "text": [
      "Canvas spec dict value is {'filesPath': 'None', 'dataType': 1, 'instancesPerPage': 150, 'showUnfilteredData': True, 'idColumn': 'id'}\n"
     ]
    }
   ],
   "source": [
    "symph.export('../canvas_scatterplot/standalone', name=\"Widget Demo\")"
   ]
  },
  {
   "cell_type": "code",
   "execution_count": null,
   "id": "27080032",
   "metadata": {},
   "outputs": [],
   "source": []
  }
 ],
 "metadata": {
  "finalized": {
   "timestamp": 1623266852462,
   "trusted": false
  },
  "kernelspec": {
   "display_name": "betterwithdata",
   "language": "python",
   "name": "betterwithdata"
  },
  "language_info": {
   "codemirror_mode": {
    "name": "ipython",
    "version": 3
   },
   "file_extension": ".py",
   "mimetype": "text/x-python",
   "name": "python",
   "nbconvert_exporter": "python",
   "pygments_lexer": "ipython3",
   "version": "3.10.15"
  },
  "metadata": {
   "interpreter": {
    "hash": "61676ae764c2630d6a4b513ad0617d91546daad86abd1efe70032d363af5955a"
   }
  }
 },
 "nbformat": 4,
 "nbformat_minor": 5
}
