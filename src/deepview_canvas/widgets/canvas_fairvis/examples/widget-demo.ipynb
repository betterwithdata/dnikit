{
 "cells": [
  {
   "cell_type": "markdown",
   "id": "83f98ed8",
   "metadata": {},
   "source": [
    "# FairVis Demo \n",
    "\n",
    "Run this noteboook to test your widget, and create the initial directory to be able to run `yarn dev`."
   ]
  },
  {
   "cell_type": "code",
   "execution_count": 1,
   "id": "5326d132",
   "metadata": {
    "tags": []
   },
   "outputs": [],
   "source": [
    "%load_ext autoreload\n",
    "%autoreload 2"
   ]
  },
  {
   "cell_type": "code",
   "execution_count": 2,
   "id": "66bbe11d",
   "metadata": {
    "tags": []
   },
   "outputs": [],
   "source": [
    "import random\n",
    "import pandas as pd\n",
    "\n",
    "import canvas_ux\n",
    "from canvas_fairvis import CanvasFairVis"
   ]
  },
  {
   "cell_type": "markdown",
   "id": "c6beda34",
   "metadata": {},
   "source": [
    "### Create/Import Data \n",
    "\n",
    "Create a Pandas DataFrame with your data or the metadata for a dataset."
   ]
  },
  {
   "cell_type": "code",
   "execution_count": 3,
   "id": "e97af1d5",
   "metadata": {
    "tags": []
   },
   "outputs": [],
   "source": [
    "# https://parasite.id/blog/2018-12-13-model-evaluation/\n",
    "label = (['Hymnenolopsis nana'] * 5) + (['Trichuris trichuria'] * 11) + (['Hookworm'] * 27) + (['Ascaris'] * 48) + (['Shistosoma'] * 58) + (['Shistosoma japonicum'] * 57) + (['Shistosoma haematobium'] * 42) + (['Fasciola'] * 58) + (['Taenia'] * 74) + (['Negative'] * 500)\n",
    "prediction = (['Hymnenolopsis nana'] * 5) + (['Trichuris trichuria'] * 9) + ['Fasciola', 'Shistosoma haematobium'] + (['Hookworm'] * 25) + ['Ascaris', 'Hymnenolopsis nana'] + (['Ascaris'] * 47) + ['Negative'] + (['Shistosoma'] * 52) + ['Shistosoma haematobium'] * 3 + ['Negative', 'Hookworm', 'Fasciola'] + (['Shistosoma japonicum'] * 53) + ['Shistosoma haematobium', 'Hookworm', 'Hookworm', 'Negative'] + (['Shistosoma haematobium'] * 33) + ['Hookworm', 'Shistosoma japonicum', 'Shistosoma japonicum', 'Shistosoma', 'Shistosoma', 'Trichuris trichuria', 'Trichuris trichuria', 'Negative', 'Negative'] + (['Fasciola'] * 58) + (['Taenia'] * 71) + ['Ascaris', 'Ascaris', 'Shistosoma japonicum'] + (['Negative'] * 498) + ['Shistosoma haematobium', 'Ascaris']\n",
    "group = [random.choice(['group_1', 'group_2', 'group_3']) for i in range(880)]\n",
    "\n",
    "df = pd.DataFrame(zip(label, prediction, group), columns=['label', 'prediction', 'group'])"
   ]
  },
  {
   "cell_type": "code",
   "execution_count": 4,
   "id": "5a371d08",
   "metadata": {
    "tags": []
   },
   "outputs": [
    {
     "data": {
      "text/html": [
       "<div>\n",
       "<style scoped>\n",
       "    .dataframe tbody tr th:only-of-type {\n",
       "        vertical-align: middle;\n",
       "    }\n",
       "\n",
       "    .dataframe tbody tr th {\n",
       "        vertical-align: top;\n",
       "    }\n",
       "\n",
       "    .dataframe thead th {\n",
       "        text-align: right;\n",
       "    }\n",
       "</style>\n",
       "<table border=\"1\" class=\"dataframe\">\n",
       "  <thead>\n",
       "    <tr style=\"text-align: right;\">\n",
       "      <th></th>\n",
       "      <th>label</th>\n",
       "      <th>prediction</th>\n",
       "      <th>group</th>\n",
       "    </tr>\n",
       "  </thead>\n",
       "  <tbody>\n",
       "    <tr>\n",
       "      <th>0</th>\n",
       "      <td>Hymnenolopsis nana</td>\n",
       "      <td>Hymnenolopsis nana</td>\n",
       "      <td>group_2</td>\n",
       "    </tr>\n",
       "    <tr>\n",
       "      <th>1</th>\n",
       "      <td>Hymnenolopsis nana</td>\n",
       "      <td>Hymnenolopsis nana</td>\n",
       "      <td>group_2</td>\n",
       "    </tr>\n",
       "    <tr>\n",
       "      <th>2</th>\n",
       "      <td>Hymnenolopsis nana</td>\n",
       "      <td>Hymnenolopsis nana</td>\n",
       "      <td>group_3</td>\n",
       "    </tr>\n",
       "    <tr>\n",
       "      <th>3</th>\n",
       "      <td>Hymnenolopsis nana</td>\n",
       "      <td>Hymnenolopsis nana</td>\n",
       "      <td>group_3</td>\n",
       "    </tr>\n",
       "    <tr>\n",
       "      <th>4</th>\n",
       "      <td>Hymnenolopsis nana</td>\n",
       "      <td>Hymnenolopsis nana</td>\n",
       "      <td>group_3</td>\n",
       "    </tr>\n",
       "  </tbody>\n",
       "</table>\n",
       "</div>"
      ],
      "text/plain": [
       "                label          prediction    group\n",
       "0  Hymnenolopsis nana  Hymnenolopsis nana  group_2\n",
       "1  Hymnenolopsis nana  Hymnenolopsis nana  group_2\n",
       "2  Hymnenolopsis nana  Hymnenolopsis nana  group_3\n",
       "3  Hymnenolopsis nana  Hymnenolopsis nana  group_3\n",
       "4  Hymnenolopsis nana  Hymnenolopsis nana  group_3"
      ]
     },
     "execution_count": 4,
     "metadata": {},
     "output_type": "execute_result"
    }
   ],
   "source": [
    "df.head()"
   ]
  },
  {
   "cell_type": "markdown",
   "id": "313f3194",
   "metadata": {},
   "source": [
    "### Create Canvas Widgets\n",
    "\n",
    "We can now explore the individual widgets!"
   ]
  },
  {
   "cell_type": "code",
   "execution_count": 6,
   "id": "91a120fc",
   "metadata": {
    "tags": []
   },
   "outputs": [
    {
     "name": "stdout",
     "output_type": "stream",
     "text": [
      "Canvas spec dict value is {'filesPath': 'None', 'dataType': 1, 'instancesPerPage': 150, 'showUnfilteredData': True, 'idColumn': 'id'}\n"
     ]
    }
   ],
   "source": [
    "symph = canvas_ux.Canvas(df)"
   ]
  },
  {
   "cell_type": "code",
   "execution_count": 7,
   "id": "09410ab9",
   "metadata": {
    "tags": []
   },
   "outputs": [
    {
     "name": "stdout",
     "output_type": "stream",
     "text": [
      "Canvas spec dict value is {'width': 'XXL', 'height': 'M', 'page': 'FairVis', 'name': 'CanvasFairVis', 'description': 'A Canvas component to investigate fairness scores of subgroups', 'labelColumn': 'label', 'predictionColumn': 'prediction'}\n"
     ]
    },
    {
     "data": {
      "application/vnd.jupyter.widget-view+json": {
       "model_id": "a3c855b0a16e4204a45169deb4e044df",
       "version_major": 2,
       "version_minor": 0
      },
      "text/plain": [
       "HBox(children=(CanvasFairVis(layout=Layout(overflow='unset', width='100%'), widget_spec={'width': 'XXL', 'heig…"
      ]
     },
     "execution_count": 7,
     "metadata": {},
     "output_type": "execute_result"
    }
   ],
   "source": [
    "symph.widget(CanvasFairVis, label_column=\"label\", prediction_column=\"prediction\")"
   ]
  },
  {
   "cell_type": "code",
   "execution_count": 8,
   "id": "ecdcace5",
   "metadata": {
    "tags": []
   },
   "outputs": [
    {
     "name": "stdout",
     "output_type": "stream",
     "text": [
      "Canvas spec dict value is {'filesPath': 'None', 'dataType': 1, 'instancesPerPage': 150, 'showUnfilteredData': True, 'idColumn': 'id'}\n"
     ]
    }
   ],
   "source": [
    "symph.export('../canvas_fairvis/standalone', name=\"Widget Demo\")"
   ]
  },
  {
   "cell_type": "code",
   "execution_count": null,
   "id": "10e154e4",
   "metadata": {},
   "outputs": [],
   "source": []
  }
 ],
 "metadata": {
  "finalized": {
   "timestamp": 1623266852462,
   "trusted": false
  },
  "kernelspec": {
   "display_name": "betterwithdata",
   "language": "python",
   "name": "betterwithdata"
  },
  "language_info": {
   "codemirror_mode": {
    "name": "ipython",
    "version": 3
   },
   "file_extension": ".py",
   "mimetype": "text/x-python",
   "name": "python",
   "nbconvert_exporter": "python",
   "pygments_lexer": "ipython3",
   "version": "3.10.15"
  },
  "metadata": {
   "interpreter": {
    "hash": "61676ae764c2630d6a4b513ad0617d91546daad86abd1efe70032d363af5955a"
   }
  }
 },
 "nbformat": 4,
 "nbformat_minor": 5
}
