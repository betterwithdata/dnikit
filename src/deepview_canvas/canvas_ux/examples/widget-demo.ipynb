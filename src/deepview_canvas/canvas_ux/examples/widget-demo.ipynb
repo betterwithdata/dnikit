{
 "cells": [
  {
   "cell_type": "markdown",
   "id": "460ba9d2",
   "metadata": {},
   "source": [
    "# Data Map Demo \n",
    "\n",
    "Run this noteboook to test your widget, and create the initial directory to be able to run `yarn dev`."
   ]
  },
  {
   "cell_type": "code",
   "execution_count": 1,
   "id": "e17f74ae",
   "metadata": {},
   "outputs": [
    {
     "name": "stdout",
     "output_type": "stream",
     "text": [
      "Python 3.10.14\n"
     ]
    }
   ],
   "source": [
    "!python --version"
   ]
  },
  {
   "cell_type": "code",
   "execution_count": 2,
   "id": "606b2aad",
   "metadata": {
    "tags": []
   },
   "outputs": [],
   "source": [
    "%load_ext autoreload\n",
    "%autoreload 2"
   ]
  },
  {
   "cell_type": "code",
   "execution_count": 3,
   "id": "b97ea5a0",
   "metadata": {
    "tags": []
   },
   "outputs": [
    {
     "ename": "ImportError",
     "evalue": "cannot import name 'CanvasDataMap' from 'canvas_ux' (/home/satish/miniforge3/envs/betterwithdata/lib/python3.10/site-packages/canvas_ux/__init__.py)",
     "output_type": "error",
     "traceback": [
      "\u001b[0;31m---------------------------------------------------------------------------\u001b[0m",
      "\u001b[0;31mImportError\u001b[0m                               Traceback (most recent call last)",
      "Cell \u001b[0;32mIn[3], line 5\u001b[0m\n\u001b[1;32m      2\u001b[0m \u001b[38;5;28;01mimport\u001b[39;00m \u001b[38;5;21;01mpandas\u001b[39;00m \u001b[38;5;28;01mas\u001b[39;00m \u001b[38;5;21;01mpd\u001b[39;00m\n\u001b[1;32m      4\u001b[0m \u001b[38;5;28;01mimport\u001b[39;00m \u001b[38;5;21;01mcanvas_ux\u001b[39;00m\n\u001b[0;32m----> 5\u001b[0m \u001b[38;5;28;01mfrom\u001b[39;00m \u001b[38;5;21;01mcanvas_ux\u001b[39;00m \u001b[38;5;28;01mimport\u001b[39;00m CanvasDataMap\n",
      "\u001b[0;31mImportError\u001b[0m: cannot import name 'CanvasDataMap' from 'canvas_ux' (/home/satish/miniforge3/envs/betterwithdata/lib/python3.10/site-packages/canvas_ux/__init__.py)"
     ]
    }
   ],
   "source": [
    "import random\n",
    "import pandas as pd\n",
    "\n",
    "import canvas_ux\n",
    "from canvas_ux import CanvasDataMap"
   ]
  },
  {
   "cell_type": "markdown",
   "id": "9101d772",
   "metadata": {},
   "source": [
    "### Create/Import Data \n",
    "\n",
    "Create a Pandas DataFrame with your data or the metadata for a dataset."
   ]
  },
  {
   "cell_type": "code",
   "execution_count": 3,
   "id": "3d776a7e",
   "metadata": {
    "tags": []
   },
   "outputs": [],
   "source": [
    "a = [random.randint(0, 100) for i in range(100)]\n",
    "b = [random.randint(50, 200) for i in range(100)]\n",
    "c = [random.randint(0, 1) for i in range(100)]\n",
    "states = ['Alabama',\n",
    "'Alaska',\n",
    "'Arizona',\n",
    "'Arkansas',\n",
    "'California',\n",
    "'Colorado',\n",
    "'Connecticut',\n",
    "'Delaware',\n",
    "'District of Columbia',\n",
    "'Florida',\n",
    "'Georgia',\n",
    "'Hawaii',\n",
    "'Idaho',\n",
    "'Illinois',\n",
    "'Indiana',\n",
    "'Iowa',\n",
    "'Kansas',\n",
    "'Kentucky',\n",
    "'Louisiana',\n",
    "'Maine',\n",
    "'Maryland',\n",
    "'Massachusetts',\n",
    "'Michigan',\n",
    "'Minnesota',\n",
    "'Mississippi',\n",
    "'Missouri',\n",
    "'Montana',\n",
    "'Nebraska',\n",
    "'Nevada',\n",
    "'New Hampshire',\n",
    "'New Jersey',\n",
    "'New Mexico',\n",
    "'New York',\n",
    "'North Carolina',\n",
    "'North Dakota',\n",
    "'Ohio',\n",
    "'Oklahoma',\n",
    "'Oregon',\n",
    "'Pennsylvania',\n",
    "'Rhode Island',\n",
    "'South Carolina',\n",
    "'South Dakota',\n",
    "'Tennessee',\n",
    "'Texas',\n",
    "'Utah',\n",
    "'Vermont',\n",
    "'Virginia',\n",
    "'Washington',\n",
    "'West Virginia',\n",
    "'Wisconsin',\n",
    "'Wyoming']\n",
    "country = [random.choice(states) for i in range(100)]\n",
    "\n",
    "df = pd.DataFrame(zip(a, b, c, country), columns=['a', 'b', 'c', 'country'])"
   ]
  },
  {
   "cell_type": "code",
   "execution_count": 4,
   "id": "9971d592",
   "metadata": {
    "tags": []
   },
   "outputs": [
    {
     "data": {
      "text/html": [
       "<div>\n",
       "<style scoped>\n",
       "    .dataframe tbody tr th:only-of-type {\n",
       "        vertical-align: middle;\n",
       "    }\n",
       "\n",
       "    .dataframe tbody tr th {\n",
       "        vertical-align: top;\n",
       "    }\n",
       "\n",
       "    .dataframe thead th {\n",
       "        text-align: right;\n",
       "    }\n",
       "</style>\n",
       "<table border=\"1\" class=\"dataframe\">\n",
       "  <thead>\n",
       "    <tr style=\"text-align: right;\">\n",
       "      <th></th>\n",
       "      <th>a</th>\n",
       "      <th>b</th>\n",
       "      <th>c</th>\n",
       "      <th>country</th>\n",
       "    </tr>\n",
       "  </thead>\n",
       "  <tbody>\n",
       "    <tr>\n",
       "      <th>0</th>\n",
       "      <td>22</td>\n",
       "      <td>84</td>\n",
       "      <td>0</td>\n",
       "      <td>South Dakota</td>\n",
       "    </tr>\n",
       "    <tr>\n",
       "      <th>1</th>\n",
       "      <td>13</td>\n",
       "      <td>88</td>\n",
       "      <td>1</td>\n",
       "      <td>Missouri</td>\n",
       "    </tr>\n",
       "    <tr>\n",
       "      <th>2</th>\n",
       "      <td>99</td>\n",
       "      <td>70</td>\n",
       "      <td>0</td>\n",
       "      <td>New Mexico</td>\n",
       "    </tr>\n",
       "    <tr>\n",
       "      <th>3</th>\n",
       "      <td>43</td>\n",
       "      <td>103</td>\n",
       "      <td>1</td>\n",
       "      <td>Alaska</td>\n",
       "    </tr>\n",
       "    <tr>\n",
       "      <th>4</th>\n",
       "      <td>96</td>\n",
       "      <td>128</td>\n",
       "      <td>1</td>\n",
       "      <td>Nebraska</td>\n",
       "    </tr>\n",
       "  </tbody>\n",
       "</table>\n",
       "</div>"
      ],
      "text/plain": [
       "    a    b  c       country\n",
       "0  22   84  0  South Dakota\n",
       "1  13   88  1      Missouri\n",
       "2  99   70  0    New Mexico\n",
       "3  43  103  1        Alaska\n",
       "4  96  128  1      Nebraska"
      ]
     },
     "execution_count": 4,
     "metadata": {},
     "output_type": "execute_result"
    }
   ],
   "source": [
    "df.head()"
   ]
  },
  {
   "cell_type": "code",
   "execution_count": 5,
   "id": "bbb9875e",
   "metadata": {
    "tags": []
   },
   "outputs": [],
   "source": [
    "id_map = {\n",
    "    'Alabama': 1,\n",
    "    'Alaska': 2,\n",
    "    'Arizona': 4,\n",
    "    'Arkansas': 5,\n",
    "    'California': 6,\n",
    "    'Colorado': 8,\n",
    "    'Connecticut': 9,\n",
    "    'Delaware': 10,\n",
    "    'District of Columbia': 11,\n",
    "    'Florida': 12,\n",
    "    'Georgia': 13,\n",
    "    'Hawaii': 15,\n",
    "    'Idaho': 16,\n",
    "    'Illinois': 17,\n",
    "    'Indiana': 18,\n",
    "    'Iowa': 19,\n",
    "    'Kansas': 20,\n",
    "    'Kentucky': 21,\n",
    "    'Louisiana': 22,\n",
    "    'Maine': 23,\n",
    "    'Maryland': 24,\n",
    "    'Massachusetts': 25,\n",
    "    'Michigan': 26,\n",
    "    'Minnesota': 27,\n",
    "    'Mississippi': 28,\n",
    "    'Missouri': 29,\n",
    "    'Montana': 30,\n",
    "    'Nebraska': 31,\n",
    "    'Nevada': 32,\n",
    "    'New Hampshire': 33,\n",
    "    'New Jersey': 34,\n",
    "    'New Mexico': 35,\n",
    "    'New York': 36,\n",
    "    'North Carolina': 37,\n",
    "    'North Dakota': 38,\n",
    "    'Ohio': 39,\n",
    "    'Oklahoma': 40,\n",
    "    'Oregon': 41,\n",
    "    'Pennsylvania': 42,\n",
    "    'Rhode Island': 44,\n",
    "    'South Carolina': 45,\n",
    "    'South Dakota': 46,\n",
    "    'Tennessee': 47,\n",
    "    'Texas': 48,\n",
    "    'Utah': 49,\n",
    "    'Vermont': 50,\n",
    "    'Virginia': 51,\n",
    "    'Washington': 53,\n",
    "    'West Virginia': 54,\n",
    "    'Wisconsin': 55,\n",
    "    'Wyoming': 56,\n",
    "}"
   ]
  },
  {
   "cell_type": "markdown",
   "id": "8c8e9dd5",
   "metadata": {},
   "source": [
    "### Create Canvas Widgets\n",
    "\n",
    "We can now explore the individual widgets!"
   ]
  },
  {
   "cell_type": "code",
   "execution_count": 6,
   "id": "e220611f",
   "metadata": {
    "tags": []
   },
   "outputs": [],
   "source": [
    "symph = canvas_ux.Canvas(df, notebook=True)"
   ]
  },
  {
   "cell_type": "code",
   "execution_count": 7,
   "id": "613053b3",
   "metadata": {},
   "outputs": [
    {
     "data": {
      "application/vnd.jupyter.widget-view+json": {
       "model_id": "eb34ab5a056d4a9fa91c0ab3951fb305",
       "version_major": 2,
       "version_minor": 0
      },
      "text/plain": [
       "HBox(children=(CanvasDataMap(layout=Layout(overflow='unset', width='100%'), widget_spec={'width': 'XXL', 'he…"
      ]
     },
     "execution_count": 7,
     "metadata": {},
     "output_type": "execute_result"
    }
   ],
   "source": [
    "symph.widget(CanvasDataMap, id_column='country', feature='states', projection='albersUsa', id_map=id_map, map_url='https://raw.githubusercontent.com/vega/vega/master/docs/data/us-10m.json')"
   ]
  },
  {
   "cell_type": "code",
   "execution_count": null,
   "id": "52673af3",
   "metadata": {},
   "outputs": [],
   "source": [
    "symph.export('../canvas_ux/standalone', name=\"Widget Demo\")"
   ]
  },
  {
   "cell_type": "code",
   "execution_count": null,
   "id": "038b3b75",
   "metadata": {},
   "outputs": [],
   "source": []
  }
 ],
 "metadata": {
  "finalized": {
   "timestamp": 1623266852462,
   "trusted": false
  },
  "kernelspec": {
   "display_name": "betterwithdata",
   "language": "python",
   "name": "python3"
  },
  "language_info": {
   "codemirror_mode": {
    "name": "ipython",
    "version": 3
   },
   "file_extension": ".py",
   "mimetype": "text/x-python",
   "name": "python",
   "nbconvert_exporter": "python",
   "pygments_lexer": "ipython3",
   "version": "3.10.14"
  },
  "metadata": {
   "interpreter": {
    "hash": "61676ae764c2630d6a4b513ad0617d91546daad86abd1efe70032d363af5955a"
   }
  }
 },
 "nbformat": 4,
 "nbformat_minor": 5
}
