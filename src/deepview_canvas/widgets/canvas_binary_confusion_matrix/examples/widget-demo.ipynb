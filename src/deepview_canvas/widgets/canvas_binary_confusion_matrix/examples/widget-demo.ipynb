{
 "cells": [
  {
   "cell_type": "markdown",
   "id": "fc7c448b",
   "metadata": {},
   "source": [
    "# Binary Confusion Matrix Demo \n",
    "\n",
    "Run this noteboook to test your widget, and create the initial directory to be able to run `yarn dev`."
   ]
  },
  {
   "cell_type": "code",
   "execution_count": 1,
   "id": "954f0abb",
   "metadata": {
    "tags": []
   },
   "outputs": [],
   "source": [
    "%load_ext autoreload\n",
    "%autoreload 2"
   ]
  },
  {
   "cell_type": "code",
   "execution_count": 2,
   "id": "15db25ca",
   "metadata": {
    "tags": []
   },
   "outputs": [],
   "source": [
    "import pandas as pd\n",
    "\n",
    "import canvas_ux\n",
    "from canvas_binary_confusion_matrix import CanvasBinaryConfusionMatrix"
   ]
  },
  {
   "cell_type": "markdown",
   "id": "c02e89e9",
   "metadata": {},
   "source": [
    "### Create/Import Data \n",
    "\n",
    "Create a Pandas DataFrame with your data or the metadata for a dataset."
   ]
  },
  {
   "cell_type": "code",
   "execution_count": 3,
   "id": "28e9108f",
   "metadata": {
    "tags": []
   },
   "outputs": [],
   "source": [
    "a = [1,1,1,0,0]\n",
    "b = [1,1,1,0,1]\n",
    "C = [1,0,1,0,1]\n",
    "\n",
    "df = pd.DataFrame(zip(a, b, C), columns=['label', 'pred', 'optional'])"
   ]
  },
  {
   "cell_type": "code",
   "execution_count": 4,
   "id": "26042f4f",
   "metadata": {
    "tags": []
   },
   "outputs": [
    {
     "data": {
      "text/html": [
       "<div>\n",
       "<style scoped>\n",
       "    .dataframe tbody tr th:only-of-type {\n",
       "        vertical-align: middle;\n",
       "    }\n",
       "\n",
       "    .dataframe tbody tr th {\n",
       "        vertical-align: top;\n",
       "    }\n",
       "\n",
       "    .dataframe thead th {\n",
       "        text-align: right;\n",
       "    }\n",
       "</style>\n",
       "<table border=\"1\" class=\"dataframe\">\n",
       "  <thead>\n",
       "    <tr style=\"text-align: right;\">\n",
       "      <th></th>\n",
       "      <th>label</th>\n",
       "      <th>pred</th>\n",
       "      <th>optional</th>\n",
       "    </tr>\n",
       "  </thead>\n",
       "  <tbody>\n",
       "    <tr>\n",
       "      <th>0</th>\n",
       "      <td>1</td>\n",
       "      <td>1</td>\n",
       "      <td>1</td>\n",
       "    </tr>\n",
       "    <tr>\n",
       "      <th>1</th>\n",
       "      <td>1</td>\n",
       "      <td>1</td>\n",
       "      <td>0</td>\n",
       "    </tr>\n",
       "    <tr>\n",
       "      <th>2</th>\n",
       "      <td>1</td>\n",
       "      <td>1</td>\n",
       "      <td>1</td>\n",
       "    </tr>\n",
       "    <tr>\n",
       "      <th>3</th>\n",
       "      <td>0</td>\n",
       "      <td>0</td>\n",
       "      <td>0</td>\n",
       "    </tr>\n",
       "    <tr>\n",
       "      <th>4</th>\n",
       "      <td>0</td>\n",
       "      <td>1</td>\n",
       "      <td>1</td>\n",
       "    </tr>\n",
       "  </tbody>\n",
       "</table>\n",
       "</div>"
      ],
      "text/plain": [
       "   label  pred  optional\n",
       "0      1     1         1\n",
       "1      1     1         0\n",
       "2      1     1         1\n",
       "3      0     0         0\n",
       "4      0     1         1"
      ]
     },
     "execution_count": 4,
     "metadata": {},
     "output_type": "execute_result"
    }
   ],
   "source": [
    "df.head()"
   ]
  },
  {
   "cell_type": "markdown",
   "id": "e8dc0973",
   "metadata": {},
   "source": [
    "### Create Canvas Widgets\n",
    "\n",
    "We can now explore the individual widgets!"
   ]
  },
  {
   "cell_type": "code",
   "execution_count": 5,
   "id": "6150c21e",
   "metadata": {
    "tags": []
   },
   "outputs": [
    {
     "name": "stdout",
     "output_type": "stream",
     "text": [
      "Canvas spec dict value is {'filesPath': 'None', 'dataType': 1, 'instancesPerPage': 150, 'showUnfilteredData': True, 'idColumn': 'id'}\n"
     ]
    }
   ],
   "source": [
    "symph = canvas_ux.Canvas(df)"
   ]
  },
  {
   "cell_type": "code",
   "execution_count": 6,
   "id": "4dbe7a69",
   "metadata": {
    "tags": []
   },
   "outputs": [
    {
     "name": "stdout",
     "output_type": "stream",
     "text": [
      "Canvas spec dict value is {'width': 'XXL', 'height': 'M', 'page': 'Binary Confusion Matrix', 'name': 'CanvasBinaryConfusionMatrix', 'description': 'A simple binary confusion matrix Canvas component', 'labelColumn': '', 'predictionColumn': ''}\n"
     ]
    },
    {
     "data": {
      "application/vnd.jupyter.widget-view+json": {
       "model_id": "aac1cb9616d04993ab780737ae3a39fe",
       "version_major": 2,
       "version_minor": 0
      },
      "text/plain": [
       "HBox(children=(CanvasBinaryConfusionMatrix(layout=Layout(overflow='unset', width='100%'), widget_spec={'width'…"
      ]
     },
     "execution_count": 6,
     "metadata": {},
     "output_type": "execute_result"
    }
   ],
   "source": [
    "symph.widget(CanvasBinaryConfusionMatrix)"
   ]
  },
  {
   "cell_type": "code",
   "execution_count": 8,
   "id": "fc7337db",
   "metadata": {
    "tags": []
   },
   "outputs": [
    {
     "name": "stdout",
     "output_type": "stream",
     "text": [
      "Canvas spec dict value is {'filesPath': 'None', 'dataType': 1, 'instancesPerPage': 150, 'showUnfilteredData': True, 'idColumn': 'id'}\n"
     ]
    }
   ],
   "source": [
    "symph.export('../canvas_binary_confusion_matrix/standalone', name=\"Widget Demo\")"
   ]
  },
  {
   "cell_type": "code",
   "execution_count": null,
   "id": "6e474daa",
   "metadata": {},
   "outputs": [],
   "source": []
  }
 ],
 "metadata": {
  "finalized": {
   "timestamp": 1623266852462,
   "trusted": false
  },
  "kernelspec": {
   "display_name": "Python 3 (ipykernel)",
   "language": "python",
   "name": "python3"
  },
  "language_info": {
   "codemirror_mode": {
    "name": "ipython",
    "version": 3
   },
   "file_extension": ".py",
   "mimetype": "text/x-python",
   "name": "python",
   "nbconvert_exporter": "python",
   "pygments_lexer": "ipython3",
   "version": "3.10.15"
  },
  "metadata": {
   "interpreter": {
    "hash": "61676ae764c2630d6a4b513ad0617d91546daad86abd1efe70032d363af5955a"
   }
  },
  "widgets": {
   "application/vnd.jupyter.widget-state+json": {
    "state": {
     "0573e474de10444da9adb4b427f9e726": {
      "model_module": "@jupyter-widgets/controls",
      "model_module_version": "1.5.0",
      "model_name": "DirectionalLinkModel",
      "state": {
       "source": [
        "IPY_MODEL_b5fa814253ae40018d2a4b12032a7613",
        "canvas_spec"
       ],
       "target": [
        "IPY_MODEL_b5972bee40ad423290b18db26b2e0999",
        "canvas_spec"
       ]
      }
     },
     "0babb60c725d44f0aa36a7177c65935b": {
      "model_module": "@jupyter-widgets/controls",
      "model_module_version": "1.5.0",
      "model_name": "VBoxModel",
      "state": {
       "children": [
        "IPY_MODEL_b5fa814253ae40018d2a4b12032a7613",
        "IPY_MODEL_b5972bee40ad423290b18db26b2e0999"
       ],
       "layout": "IPY_MODEL_6f1f129100a24376a46a330995dc1d43"
      }
     },
     "1a08eee693164c4aaf4d6599808405c0": {
      "model_module": "@jupyter-widgets/controls",
      "model_module_version": "1.5.0",
      "model_name": "LinkModel",
      "state": {
       "source": [
        "IPY_MODEL_5bb2991a088f4227b4ee66ae6b84c8cd",
        "show_raw"
       ],
       "target": [
        "IPY_MODEL_c90a5b7ca81540bdb19760f5e01e5189",
        "show_raw"
       ]
      }
     },
     "1ba0b9afa7e7477ca5a8ef18b9d82f08": {
      "model_module": "@jupyter-widgets/controls",
      "model_module_version": "1.5.0",
      "model_name": "LinkModel",
      "state": {
       "source": [
        "IPY_MODEL_5bb2991a088f4227b4ee66ae6b84c8cd",
        "filter"
       ],
       "target": [
        "IPY_MODEL_c90a5b7ca81540bdb19760f5e01e5189",
        "filter"
       ]
      }
     },
     "2250a10edeca48be94c8792e3bad4b6c": {
      "model_module": "@jupyter-widgets/controls",
      "model_module_version": "1.5.0",
      "model_name": "LinkModel",
      "state": {
       "source": [
        "IPY_MODEL_b5fa814253ae40018d2a4b12032a7613",
        "group_columns"
       ],
       "target": [
        "IPY_MODEL_b5972bee40ad423290b18db26b2e0999",
        "group_columns"
       ]
      }
     },
     "312b1f32dfb0477f9c7d2ea89da1d166": {
      "model_module": "@jupyter-widgets/controls",
      "model_module_version": "1.5.0",
      "model_name": "LinkModel",
      "state": {
       "source": [
        "IPY_MODEL_b5fa814253ae40018d2a4b12032a7613",
        "selected"
       ],
       "target": [
        "IPY_MODEL_b5972bee40ad423290b18db26b2e0999",
        "selected"
       ]
      }
     },
     "35bf0f3f1dc94b7bb08af982ed9f1283": {
      "model_module": "@jupyter-widgets/controls",
      "model_module_version": "1.5.0",
      "model_name": "DirectionalLinkModel",
      "state": {
       "source": [
        "IPY_MODEL_5bb2991a088f4227b4ee66ae6b84c8cd",
        "table"
       ],
       "target": [
        "IPY_MODEL_c90a5b7ca81540bdb19760f5e01e5189",
        "table"
       ]
      }
     },
     "459c83e57c634c7690a72a62bf20b6c1": {
      "model_module": "@jupyter-widgets/controls",
      "model_module_version": "1.5.0",
      "model_name": "VBoxModel",
      "state": {
       "children": [
        "IPY_MODEL_b5fa814253ae40018d2a4b12032a7613",
        "IPY_MODEL_b5972bee40ad423290b18db26b2e0999"
       ],
       "layout": "IPY_MODEL_6f1f129100a24376a46a330995dc1d43"
      }
     },
     "580085fb812d49ceaeeade754c4837fe": {
      "model_module": "@jupyter-widgets/controls",
      "model_module_version": "1.5.0",
      "model_name": "LinkModel",
      "state": {
       "source": [
        "IPY_MODEL_5bb2991a088f4227b4ee66ae6b84c8cd",
        "selected"
       ],
       "target": [
        "IPY_MODEL_c90a5b7ca81540bdb19760f5e01e5189",
        "selected"
       ]
      }
     },
     "5bb2991a088f4227b4ee66ae6b84c8cd": {
      "model_module": "canvas",
      "model_module_version": "^1.0.5",
      "model_name": "ToolbarModel",
      "state": {
       "_model_module_version": "^1.0.5",
       "_view_module_version": "^1.0.5",
       "canvas_spec": {
        "files_path": "/files/images/",
        "id_column": "id"
       },
       "filter": "",
       "group_columns": [],
       "layout": "IPY_MODEL_6f1f129100a24376a46a330995dc1d43",
       "selected": [],
       "show_raw": true,
       "table": {},
       "widget_spec": {
        "name": "toolbar"
       }
      }
     },
     "6f1f129100a24376a46a330995dc1d43": {
      "model_module": "@jupyter-widgets/base",
      "model_module_version": "1.2.0",
      "model_name": "LayoutModel",
      "state": {
       "overflow": "unset"
      }
     },
     "801635aeb78c4973be9c961ed066adf1": {
      "model_module": "@jupyter-widgets/controls",
      "model_module_version": "1.5.0",
      "model_name": "LinkModel",
      "state": {
       "source": [
        "IPY_MODEL_b5fa814253ae40018d2a4b12032a7613",
        "show_raw"
       ],
       "target": [
        "IPY_MODEL_b5972bee40ad423290b18db26b2e0999",
        "show_raw"
       ]
      }
     },
     "94b1d5e0bd664f46915ebfaa4f0b696b": {
      "model_module": "@jupyter-widgets/controls",
      "model_module_version": "1.5.0",
      "model_name": "DirectionalLinkModel",
      "state": {
       "source": [
        "IPY_MODEL_b5fa814253ae40018d2a4b12032a7613",
        "table"
       ],
       "target": [
        "IPY_MODEL_b5972bee40ad423290b18db26b2e0999",
        "table"
       ]
      }
     },
     "a73526336b40405da4d3c3cd5090b36b": {
      "model_module": "@jupyter-widgets/controls",
      "model_module_version": "1.5.0",
      "model_name": "DirectionalLinkModel",
      "state": {
       "source": [
        "IPY_MODEL_5bb2991a088f4227b4ee66ae6b84c8cd",
        "canvas_spec"
       ],
       "target": [
        "IPY_MODEL_c90a5b7ca81540bdb19760f5e01e5189",
        "canvas_spec"
       ]
      }
     },
     "b5972bee40ad423290b18db26b2e0999": {
      "buffers": [
       {
        "data": "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",
        "encoding": "base64",
        "path": [
         "table"
        ]
       }
      ],
      "model_module": "canvas-binary-confusion-matrix",
      "model_module_version": "^0.1.0",
      "model_name": "CanvasBinaryConfusionMatrixModel",
      "state": {
       "_model_module_version": "^0.1.0",
       "_view_module_version": "^0.1.0",
       "canvas_spec": {
        "files_path": "/files/images/",
        "id_column": "id"
       },
       "filter": "",
       "group_columns": [],
       "layout": "IPY_MODEL_6f1f129100a24376a46a330995dc1d43",
       "selected": [],
       "show_raw": true,
       "table": {},
       "widget_spec": {
        "description": "A simple binary confusion matrix extension that takes into account the grouping.",
        "height": "M",
        "label_column": "",
        "name": "CanvasBinaryConfusionMatrix",
        "page": "Binary Confusion Matrix",
        "prediction_column": "",
        "width": "XXL"
       }
      }
     },
     "b5fa814253ae40018d2a4b12032a7613": {
      "model_module": "canvas",
      "model_module_version": "^1.0.5",
      "model_name": "ToolbarModel",
      "state": {
       "_model_module_version": "^1.0.5",
       "_view_module_version": "^1.0.5",
       "canvas_spec": {
        "files_path": "/files/images/",
        "id_column": "id"
       },
       "filter": "",
       "group_columns": [],
       "layout": "IPY_MODEL_6f1f129100a24376a46a330995dc1d43",
       "selected": [],
       "show_raw": true,
       "table": {},
       "widget_spec": {
        "name": "toolbar"
       }
      }
     },
     "c90a5b7ca81540bdb19760f5e01e5189": {
      "buffers": [
       {
        "data": "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",
        "encoding": "base64",
        "path": [
         "table"
        ]
       }
      ],
      "model_module": "canvas-binary-confusion-matrix",
      "model_module_version": "^0.1.0",
      "model_name": "CanvasBinaryConfusionMatrixModel",
      "state": {
       "_model_module_version": "^0.1.0",
       "_view_module_version": "^0.1.0",
       "canvas_spec": {
        "files_path": "/files/images/",
        "id_column": "id"
       },
       "filter": "",
       "group_columns": [],
       "layout": "IPY_MODEL_6f1f129100a24376a46a330995dc1d43",
       "selected": [],
       "show_raw": true,
       "table": {},
       "widget_spec": {
        "description": "A simple binary confusion matrix extension that takes into account the grouping.",
        "height": "M",
        "label_column": "",
        "name": "CanvasBinaryConfusionMatrix",
        "page": "Binary Confusion Matrix",
        "prediction_column": "",
        "width": "XXL"
       }
      }
     },
     "cf3737f896094ad69523647fa2fc6a13": {
      "model_module": "@jupyter-widgets/controls",
      "model_module_version": "1.5.0",
      "model_name": "LinkModel",
      "state": {
       "source": [
        "IPY_MODEL_5bb2991a088f4227b4ee66ae6b84c8cd",
        "group_columns"
       ],
       "target": [
        "IPY_MODEL_c90a5b7ca81540bdb19760f5e01e5189",
        "group_columns"
       ]
      }
     },
     "d26b08b17e7b402091700f49fbe6b987": {
      "model_module": "@jupyter-widgets/controls",
      "model_module_version": "1.5.0",
      "model_name": "LinkModel",
      "state": {
       "source": [
        "IPY_MODEL_b5fa814253ae40018d2a4b12032a7613",
        "filter"
       ],
       "target": [
        "IPY_MODEL_b5972bee40ad423290b18db26b2e0999",
        "filter"
       ]
      }
     },
     "d82e78af3a144b4e88480b5734c25af8": {
      "model_module": "@jupyter-widgets/controls",
      "model_module_version": "1.5.0",
      "model_name": "VBoxModel",
      "state": {
       "children": [
        "IPY_MODEL_5bb2991a088f4227b4ee66ae6b84c8cd",
        "IPY_MODEL_c90a5b7ca81540bdb19760f5e01e5189"
       ],
       "layout": "IPY_MODEL_6f1f129100a24376a46a330995dc1d43"
      }
     },
     "d8415d26a11e4986840949269970b671": {
      "model_module": "@jupyter-widgets/controls",
      "model_module_version": "1.5.0",
      "model_name": "VBoxModel",
      "state": {
       "children": [
        "IPY_MODEL_b5fa814253ae40018d2a4b12032a7613",
        "IPY_MODEL_b5972bee40ad423290b18db26b2e0999"
       ],
       "layout": "IPY_MODEL_6f1f129100a24376a46a330995dc1d43"
      }
     }
    },
    "version_major": 2,
    "version_minor": 0
   }
  }
 },
 "nbformat": 4,
 "nbformat_minor": 5
}
