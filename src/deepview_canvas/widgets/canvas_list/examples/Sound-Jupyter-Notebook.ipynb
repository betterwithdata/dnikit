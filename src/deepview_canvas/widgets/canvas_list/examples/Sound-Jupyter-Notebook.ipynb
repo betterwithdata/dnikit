{
 "cells": [
  {
   "cell_type": "markdown",
   "id": "03bf10eb",
   "metadata": {},
   "source": [
    "# List Demo \n",
    "\n",
    "Run this noteboook to test your widget, and create the initial directory to be able to run `yarn dev`.\n",
    "\n",
    "This example uses audio data. To see [another example that uses image data](https://betterwithdata.github.io/ml-canvas/examples.html), see the CIFAR-10 example in the main `canvas_ui` examples."
   ]
  },
  {
   "cell_type": "code",
   "execution_count": 1,
   "id": "3d56a912",
   "metadata": {
    "tags": []
   },
   "outputs": [],
   "source": [
    "%load_ext autoreload\n",
    "%autoreload 2"
   ]
  },
  {
   "cell_type": "code",
   "execution_count": 3,
   "id": "08f41edf",
   "metadata": {
    "tags": []
   },
   "outputs": [],
   "source": [
    "import git\n",
    "from pathlib import Path\n",
    "import os\n",
    "import pandas as pd\n",
    "\n",
    "import canvas_ux\n",
    "from canvas_list import CanvasList"
   ]
  },
  {
   "cell_type": "markdown",
   "id": "8c6f244a",
   "metadata": {},
   "source": [
    "### Create/Import Data \n",
    "\n",
    "Create a Pandas DataFrame with your data or the metadata for a dataset."
   ]
  },
  {
   "cell_type": "code",
   "execution_count": 4,
   "id": "ff4f8387",
   "metadata": {
    "tags": []
   },
   "outputs": [],
   "source": [
    "clone_path = Path(\"./example_data/spoken\")\n",
    "\n",
    "if not os.path.exists(clone_path):\n",
    "    clone_path.mkdir(exist_ok=True, parents=True)\n",
    "    repo = git.Repo.clone_from(\n",
    "        'https://github.com/Jakobovski/free-spoken-digit-dataset.git',\n",
    "        './example_data/spoken/',\n",
    "        branch='master'\n",
    "    )"
   ]
  },
  {
   "cell_type": "code",
   "execution_count": 5,
   "id": "6fe23ee3",
   "metadata": {
    "tags": []
   },
   "outputs": [],
   "source": [
    "root_dir = Path(clone_path, 'recordings')\n",
    "file_set = set()\n",
    "\n",
    "for dir_, _, files in os.walk(root_dir):\n",
    "    for file_name in files:\n",
    "        if (file_name[-3:] == 'wav'):\n",
    "            rel_dir = os.path.relpath(dir_, root_dir)\n",
    "            rel_file = os.path.join(rel_dir, file_name)\n",
    "            file_set.add(rel_file)\n",
    "\n",
    "df = pd.DataFrame({'id': list(file_set),\n",
    "                       'label': [p.split('/')[1].split('_')[-3] for p in file_set], \n",
    "                       'speaker': [p.split('/')[1].split('_')[-2] for p in file_set],\n",
    "                      })"
   ]
  },
  {
   "cell_type": "code",
   "execution_count": 6,
   "id": "1797e30f",
   "metadata": {
    "tags": []
   },
   "outputs": [
    {
     "data": {
      "text/html": [
       "<div>\n",
       "<style scoped>\n",
       "    .dataframe tbody tr th:only-of-type {\n",
       "        vertical-align: middle;\n",
       "    }\n",
       "\n",
       "    .dataframe tbody tr th {\n",
       "        vertical-align: top;\n",
       "    }\n",
       "\n",
       "    .dataframe thead th {\n",
       "        text-align: right;\n",
       "    }\n",
       "</style>\n",
       "<table border=\"1\" class=\"dataframe\">\n",
       "  <thead>\n",
       "    <tr style=\"text-align: right;\">\n",
       "      <th></th>\n",
       "      <th>id</th>\n",
       "      <th>label</th>\n",
       "      <th>speaker</th>\n",
       "    </tr>\n",
       "  </thead>\n",
       "  <tbody>\n",
       "    <tr>\n",
       "      <th>0</th>\n",
       "      <td>./8_yweweler_29.wav</td>\n",
       "      <td>8</td>\n",
       "      <td>yweweler</td>\n",
       "    </tr>\n",
       "    <tr>\n",
       "      <th>1</th>\n",
       "      <td>./8_yweweler_3.wav</td>\n",
       "      <td>8</td>\n",
       "      <td>yweweler</td>\n",
       "    </tr>\n",
       "    <tr>\n",
       "      <th>2</th>\n",
       "      <td>./2_yweweler_46.wav</td>\n",
       "      <td>2</td>\n",
       "      <td>yweweler</td>\n",
       "    </tr>\n",
       "    <tr>\n",
       "      <th>3</th>\n",
       "      <td>./3_theo_25.wav</td>\n",
       "      <td>3</td>\n",
       "      <td>theo</td>\n",
       "    </tr>\n",
       "    <tr>\n",
       "      <th>4</th>\n",
       "      <td>./9_nicolas_32.wav</td>\n",
       "      <td>9</td>\n",
       "      <td>nicolas</td>\n",
       "    </tr>\n",
       "  </tbody>\n",
       "</table>\n",
       "</div>"
      ],
      "text/plain": [
       "                    id label   speaker\n",
       "0  ./8_yweweler_29.wav     8  yweweler\n",
       "1   ./8_yweweler_3.wav     8  yweweler\n",
       "2  ./2_yweweler_46.wav     2  yweweler\n",
       "3      ./3_theo_25.wav     3      theo\n",
       "4   ./9_nicolas_32.wav     9   nicolas"
      ]
     },
     "execution_count": 6,
     "metadata": {},
     "output_type": "execute_result"
    }
   ],
   "source": [
    "df.head()"
   ]
  },
  {
   "cell_type": "markdown",
   "id": "691efacd",
   "metadata": {},
   "source": [
    "### Create Canvas Widgets\n",
    "\n",
    "We can now explore the individual widgets!"
   ]
  },
  {
   "cell_type": "code",
   "execution_count": 7,
   "id": "61080bf6",
   "metadata": {},
   "outputs": [],
   "source": [
    "symph = canvas_ux.Canvas(df, files_path='./example_data/spoken/recordings/' ,instances_per_page=10)"
   ]
  },
  {
   "cell_type": "code",
   "execution_count": 8,
   "id": "0da4ddf3",
   "metadata": {
    "scrolled": true
   },
   "outputs": [
    {
     "data": {
      "application/vnd.jupyter.widget-view+json": {
       "model_id": "7aa673ecc8b64f6797f1ccf0f0662652",
       "version_major": 2,
       "version_minor": 0
      },
      "text/plain": [
       "HBox(children=(CanvasList(layout=Layout(overflow='unset', width='100%'), widget_spec={'width': 'XXL', 'heigh…"
      ]
     },
     "execution_count": 8,
     "metadata": {},
     "output_type": "execute_result"
    }
   ],
   "source": [
    "symph.widget(CanvasList)"
   ]
  },
  {
   "cell_type": "code",
   "execution_count": null,
   "id": "28f74dc6",
   "metadata": {},
   "outputs": [],
   "source": [
    "symph.export('./standalone_new', symlink_files=True,name=\"Speech\")"
   ]
  },
  {
   "cell_type": "code",
   "execution_count": null,
   "id": "d30c1083",
   "metadata": {},
   "outputs": [],
   "source": []
  }
 ],
 "metadata": {
  "kernelspec": {
   "display_name": "betterwithdata",
   "language": "python",
   "name": "betterwithdata"
  },
  "language_info": {
   "codemirror_mode": {
    "name": "ipython",
    "version": 3
   },
   "file_extension": ".py",
   "mimetype": "text/x-python",
   "name": "python",
   "nbconvert_exporter": "python",
   "pygments_lexer": "ipython3",
   "version": "3.10.15"
  }
 },
 "nbformat": 4,
 "nbformat_minor": 5
}
