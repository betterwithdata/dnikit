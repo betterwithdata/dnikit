{
 "cells": [
  {
   "cell_type": "markdown",
   "id": "30ea8397",
   "metadata": {},
   "source": [
    "# Markdown Demo \n",
    "\n",
    "Run this noteboook to test your widget, and create the initial directory to be able to run `yarn dev`."
   ]
  },
  {
   "cell_type": "code",
   "execution_count": 1,
   "id": "2bd59f40",
   "metadata": {
    "tags": []
   },
   "outputs": [],
   "source": [
    "%load_ext autoreload\n",
    "%autoreload 2"
   ]
  },
  {
   "cell_type": "code",
   "execution_count": 2,
   "id": "a5f7b94f",
   "metadata": {
    "tags": []
   },
   "outputs": [],
   "source": [
    "import random\n",
    "import pandas as pd\n",
    "\n",
    "import canvas_ux\n",
    "from canvas_markdown import CanvasMarkdown"
   ]
  },
  {
   "cell_type": "markdown",
   "id": "a2e079ee",
   "metadata": {},
   "source": [
    "### Create/Import data \n",
    "\n",
    "Create a Pandas DataFrame with your data or the metadata for a dataset."
   ]
  },
  {
   "cell_type": "code",
   "execution_count": 3,
   "id": "b3a2d712",
   "metadata": {
    "tags": []
   },
   "outputs": [],
   "source": [
    "a = [random.randint(0, 100) for i in range(100)]\n",
    "b = [random.randint(50, 200) for i in range(100)]\n",
    "c = [random.randint(0, 1) for i in range(100)]\n",
    "\n",
    "df = pd.DataFrame(zip(a, b, c), columns=['a', 'b', 'c'])"
   ]
  },
  {
   "cell_type": "markdown",
   "id": "0d86c438",
   "metadata": {},
   "source": [
    "### Create Canvas Widgets\n",
    "\n",
    "We can now explore the individual widgets!"
   ]
  },
  {
   "cell_type": "code",
   "execution_count": 4,
   "id": "84f25b3d",
   "metadata": {
    "tags": []
   },
   "outputs": [
    {
     "name": "stdout",
     "output_type": "stream",
     "text": [
      "Canvas spect dict value is {'filesPath': 'None', 'dataType': 1, 'instancesPerPage': 150, 'showUnfilteredData': True, 'idColumn': 'id'}\n"
     ]
    }
   ],
   "source": [
    "symph = canvas_ux.Canvas(df, notebook=True)"
   ]
  },
  {
   "cell_type": "code",
   "execution_count": 5,
   "id": "6a5b3193",
   "metadata": {
    "tags": []
   },
   "outputs": [
    {
     "name": "stdout",
     "output_type": "stream",
     "text": [
      "Canvas spect dict value is {'width': 'XXL', 'height': 'M', 'page': 'Markdown', 'name': 'CanvasMarkdown', 'description': 'A Canvas component to add markdown-based text', 'content': '# CanvasMarkdown\\n\\nA component to render HTML from markdown files.\\nThe provided markdown can be edited within the component.\\n\\n## Installation\\n\\n```bash\\npip install canvas_markdown\\n```\\n\\n## Usage\\n\\nTo learn how to use Canvas, see the [documentation](https://betterwithdata.github.io/ml-canvas/).\\n\\n## Development\\n\\nTo learn about how to build Canvas from source and how to contribute to the framework, please look at [CONTRIBUTING.md](../CONTRIBUTING.md) and the [development documentation](https://betterwithdata.github.io/ml-canvas/contributing.html).\\n', 'title': 'README.md'}\n"
     ]
    },
    {
     "data": {
      "application/vnd.jupyter.widget-view+json": {
       "model_id": "bb7917c97cf54c27bf4ef758e71e8f40",
       "version_major": 2,
       "version_minor": 0
      },
      "text/plain": [
       "HBox(children=(CanvasMarkdown(layout=Layout(overflow='unset', width='100%'), widget_spec={'width': 'XXL', 'hei…"
      ]
     },
     "execution_count": 5,
     "metadata": {},
     "output_type": "execute_result"
    }
   ],
   "source": [
    "symph.widget(CanvasMarkdown, content=open(\"../README.md\").read(), title=\"README.md\")"
   ]
  },
  {
   "cell_type": "code",
   "execution_count": 6,
   "id": "3912b418",
   "metadata": {
    "tags": []
   },
   "outputs": [
    {
     "name": "stdout",
     "output_type": "stream",
     "text": [
      "Canvas spect dict value is {'filesPath': 'None', 'dataType': 1, 'instancesPerPage': 150, 'showUnfilteredData': True, 'idColumn': 'id'}\n"
     ]
    }
   ],
   "source": [
    "symph.export('../canvas_markdown/standalone', name=\"Widget Demo\")"
   ]
  },
  {
   "cell_type": "code",
   "execution_count": null,
   "id": "f7c594e0",
   "metadata": {},
   "outputs": [],
   "source": []
  }
 ],
 "metadata": {
  "finalized": {
   "timestamp": 1623266852462,
   "trusted": false
  },
  "kernelspec": {
   "display_name": "betterwithdata",
   "language": "python",
   "name": "betterwithdata"
  },
  "language_info": {
   "codemirror_mode": {
    "name": "ipython",
    "version": 3
   },
   "file_extension": ".py",
   "mimetype": "text/x-python",
   "name": "python",
   "nbconvert_exporter": "python",
   "pygments_lexer": "ipython3",
   "version": "3.10.15"
  },
  "metadata": {
   "interpreter": {
    "hash": "61676ae764c2630d6a4b513ad0617d91546daad86abd1efe70032d363af5955a"
   }
  }
 },
 "nbformat": 4,
 "nbformat_minor": 5
}
