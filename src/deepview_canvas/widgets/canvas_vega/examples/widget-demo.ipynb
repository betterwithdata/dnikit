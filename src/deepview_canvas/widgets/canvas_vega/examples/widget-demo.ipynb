{
 "cells": [
  {
   "cell_type": "markdown",
   "id": "ef96238d",
   "metadata": {},
   "source": [
    "# Vega Demo \n",
    "\n",
    "Run this noteboook to test your widget, and create the initial directory to be able to run `yarn dev`."
   ]
  },
  {
   "cell_type": "code",
   "execution_count": 1,
   "id": "9318455b",
   "metadata": {
    "tags": []
   },
   "outputs": [],
   "source": [
    "%load_ext autoreload\n",
    "%autoreload 2"
   ]
  },
  {
   "cell_type": "code",
   "execution_count": 2,
   "id": "7396c2ae",
   "metadata": {
    "tags": []
   },
   "outputs": [],
   "source": [
    "import random\n",
    "import pandas as pd\n",
    "\n",
    "import canvas_ux\n",
    "from canvas_vega import CanvasVega"
   ]
  },
  {
   "cell_type": "markdown",
   "id": "a5c24605",
   "metadata": {},
   "source": [
    "### Create/Import Data \n",
    "\n",
    "Create a Pandas DataFrame with your data or the metadata for a dataset."
   ]
  },
  {
   "cell_type": "code",
   "execution_count": 3,
   "id": "e77aa9fb",
   "metadata": {
    "tags": []
   },
   "outputs": [],
   "source": [
    "a = [random.choice(['a', 'b']) for i in range(100)]\n",
    "b = [random.randint(50, 200) for i in range(100)]\n",
    "c = [random.randint(0, 1) for i in range(100)]\n",
    "\n",
    "df = pd.DataFrame(zip(a, b, c), columns=['a', 'b', 'c'])"
   ]
  },
  {
   "cell_type": "markdown",
   "id": "ce473854",
   "metadata": {},
   "source": [
    "### Create Canvas Widgets\n",
    "\n",
    "We can now explore the individual widgets!"
   ]
  },
  {
   "cell_type": "code",
   "execution_count": 5,
   "id": "4906a535",
   "metadata": {
    "tags": []
   },
   "outputs": [
    {
     "name": "stdout",
     "output_type": "stream",
     "text": [
      "Canvas spec dict value is {'filesPath': 'None', 'dataType': 1, 'instancesPerPage': 150, 'showUnfilteredData': True, 'idColumn': 'id'}\n"
     ]
    }
   ],
   "source": [
    "symph = canvas_ux.Canvas(df)"
   ]
  },
  {
   "cell_type": "code",
   "execution_count": 6,
   "id": "f3604ba7",
   "metadata": {
    "tags": []
   },
   "outputs": [
    {
     "name": "stdout",
     "output_type": "stream",
     "text": [
      "Canvas spec dict value is {'width': 'XXL', 'height': 'M', 'page': 'Vega', 'name': 'CanvasVega', 'description': 'A Canvas component that can be passed vega specs to be rendered', 'vegaElements': [{'$schema': 'https://vega.github.io/schema/vega-lite/v5.json', 'description': 'A simple bar chart with embedded data.', 'data': {'values': [{'a': 'A', 'b': 28}, {'a': 'B', 'b': 55}, {'a': 'C', 'b': 43}, {'a': 'D', 'b': 91}, {'a': 'E', 'b': 81}, {'a': 'F', 'b': 53}, {'a': 'G', 'b': 19}, {'a': 'H', 'b': 87}, {'a': 'I', 'b': 52}]}, 'mark': 'bar', 'encoding': {'x': {'field': 'a', 'type': 'nominal', 'axis': {'labelAngle': 0}}, 'y': {'field': 'b', 'type': 'quantitative'}}}, {'$schema': 'https://vega.github.io/schema/vega-lite/v5.json', 'description': 'A simple bar chart with embedded data.', 'data': {'values': 'arrow_table'}, 'mark': {'type': 'bar', 'tooltip': True, 'cursor': 'pointer'}, 'encoding': {'y': {'field': 'a', 'type': 'nominal', 'sort': '-x'}, 'x': {'aggregate': 'count', 'type': 'quantitative', 'title': 'instances'}}}]}\n"
     ]
    },
    {
     "data": {
      "application/vnd.jupyter.widget-view+json": {
       "model_id": "8e5809ba04d84332b2f5b96001c1f804",
       "version_major": 2,
       "version_minor": 0
      },
      "text/plain": [
       "HBox(children=(CanvasVega(layout=Layout(overflow='unset', width='100%'), widget_spec={'width': 'XXL', 'height'…"
      ]
     },
     "execution_count": 6,
     "metadata": {},
     "output_type": "execute_result"
    }
   ],
   "source": [
    "symph.widget(CanvasVega, vega_elements=[{\n",
    "  \"$schema\": \"https://vega.github.io/schema/vega-lite/v5.json\",\n",
    "  \"description\": \"A simple bar chart with embedded data.\",\n",
    "  \"data\": {\n",
    "    \"values\": [\n",
    "      {\"a\": \"A\", \"b\": 28}, {\"a\": \"B\", \"b\": 55}, {\"a\": \"C\", \"b\": 43},\n",
    "      {\"a\": \"D\", \"b\": 91}, {\"a\": \"E\", \"b\": 81}, {\"a\": \"F\", \"b\": 53},\n",
    "      {\"a\": \"G\", \"b\": 19}, {\"a\": \"H\", \"b\": 87}, {\"a\": \"I\", \"b\": 52}\n",
    "    ],\n",
    "  },\n",
    "  \"mark\": \"bar\",\n",
    "  \"encoding\": {\n",
    "    \"x\": {\"field\": \"a\", \"type\": \"nominal\", \"axis\": {\"labelAngle\": 0}},\n",
    "    \"y\": {\"field\": \"b\", \"type\": \"quantitative\"}\n",
    "  }\n",
    "}, {\n",
    "  \"$schema\": \"https://vega.github.io/schema/vega-lite/v5.json\",\n",
    "  \"description\": \"A simple bar chart with embedded data.\",\n",
    "  \"data\": {\n",
    "    \"values\": \"arrow_table\",\n",
    "  },\n",
    "  \"mark\": { \"type\": 'bar', \"tooltip\": True, \"cursor\": 'pointer' },\n",
    "    \"encoding\": {\n",
    "      \"y\": { \"field\": \"a\", \"type\": 'nominal', \"sort\": '-x' },\n",
    "      \"x\": {\n",
    "        \"aggregate\": 'count',\n",
    "        \"type\": 'quantitative',\n",
    "        \"title\": 'instances',\n",
    "      },\n",
    "    },\n",
    "}])"
   ]
  },
  {
   "cell_type": "code",
   "execution_count": 7,
   "id": "19b3b6aa",
   "metadata": {},
   "outputs": [
    {
     "name": "stdout",
     "output_type": "stream",
     "text": [
      "Canvas spec dict value is {'filesPath': 'None', 'dataType': 1, 'instancesPerPage': 150, 'showUnfilteredData': True, 'idColumn': 'id'}\n"
     ]
    }
   ],
   "source": [
    "symph.export('../canvas_vega/standalone', name=\"Widget Demo\")"
   ]
  },
  {
   "cell_type": "code",
   "execution_count": null,
   "id": "d5b56a80",
   "metadata": {},
   "outputs": [],
   "source": []
  }
 ],
 "metadata": {
  "finalized": {
   "timestamp": 1623266852462,
   "trusted": false
  },
  "kernelspec": {
   "display_name": "betterwithdata",
   "language": "python",
   "name": "betterwithdata"
  },
  "language_info": {
   "codemirror_mode": {
    "name": "ipython",
    "version": 3
   },
   "file_extension": ".py",
   "mimetype": "text/x-python",
   "name": "python",
   "nbconvert_exporter": "python",
   "pygments_lexer": "ipython3",
   "version": "3.10.15"
  },
  "metadata": {
   "interpreter": {
    "hash": "61676ae764c2630d6a4b513ad0617d91546daad86abd1efe70032d363af5955a"
   }
  }
 },
 "nbformat": 4,
 "nbformat_minor": 5
}
